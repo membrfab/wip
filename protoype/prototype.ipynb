{
 "cells": [
  {
   "cell_type": "markdown",
   "metadata": {},
   "source": [
    "## Imports"
   ]
  },
  {
   "cell_type": "code",
   "execution_count": 558,
   "metadata": {},
   "outputs": [],
   "source": [
    "import os\n",
    "import openai\n",
    "import nest_asyncio\n",
    "from dotenv import load_dotenv\n",
    "from llama_parse import LlamaParse\n",
    "from llama_index.core import SimpleDirectoryReader\n",
    "import chromadb\n",
    "from chromadb import Client\n",
    "from sentence_transformers import SentenceTransformer\n",
    "import re"
   ]
  },
  {
   "cell_type": "markdown",
   "metadata": {},
   "source": [
    "## Initialisierung"
   ]
  },
  {
   "cell_type": "code",
   "execution_count": 559,
   "metadata": {},
   "outputs": [],
   "source": [
    "# Laden der Umgebungsvariablen\n",
    "load_dotenv()\n",
    "\n",
    "# OpenAI Client initialisieren\n",
    "openAIclient = openai.Client(api_key=os.getenv(\"OPENAI_API_KEY\"))\n",
    "\n",
    "# ChromaDB Client initialisieren\n",
    "chromaDBclient = Client()\n",
    "collection_name = \"nutrition_facts\"\n",
    "\n",
    "# SentenceTransformer-Modell initialisieren\n",
    "model = SentenceTransformer('all-MiniLM-L6-v2')\n",
    "\n",
    "# Event-Loop anpassen\n",
    "nest_asyncio.apply()"
   ]
  },
  {
   "cell_type": "markdown",
   "metadata": {},
   "source": [
    "## Überprüfen und Löschen der Sammlung\n"
   ]
  },
  {
   "cell_type": "code",
   "execution_count": 560,
   "metadata": {},
   "outputs": [],
   "source": [
    "# Alle vorhandenen Sammlungen auflisten\n",
    "collections = chromaDBclient.list_collections()\n",
    "\n",
    "# Namen der Sammlungen extrahieren\n",
    "collection_names = [coll.name for coll in collections]\n",
    "\n",
    "# Wenn die Sammlung bereits existiert, wird sie gelöscht\n",
    "if collection_name in collection_names:\n",
    "    chromaDBclient.delete_collection(collection_name)\n",
    "\n",
    "# Eine neue Sammlung erstellen\n",
    "collection = chromaDBclient.create_collection(name=collection_name)"
   ]
  },
  {
   "cell_type": "markdown",
   "metadata": {},
   "source": [
    "## Dokumente in Abschnitte aufteilen"
   ]
  },
  {
   "cell_type": "code",
   "execution_count": 561,
   "metadata": {},
   "outputs": [],
   "source": [
    "def split_documents(text):\n",
    "      # Text in Absätze aufteilen\n",
    "      paragraphs = text.split(\"\\n\")\n",
    "      return paragraphs"
   ]
  },
  {
   "cell_type": "markdown",
   "metadata": {},
   "source": [
    "## Funktion zum Speichern von Dokumenten mit Metadaten"
   ]
  },
  {
   "cell_type": "code",
   "execution_count": 586,
   "metadata": {},
   "outputs": [],
   "source": [
    "def store_documents_with_metadata(documents, source_file):\n",
    "   \"\"\"\n",
    "   Speichert Dokumente mit Abschnitten, Embeddings und zugehörigen Metadaten in ChromaDB.\n",
    "   :param documents: Liste von Dokumentobjekten.\n",
    "   :param source_file: Der Name der Datei, aus der das Dokument stammt.\n",
    "   \"\"\"\n",
    "   for idx, document in enumerate(documents):\n",
    "      content = document.text\n",
    "      \n",
    "      # Eindeutige Dokument-ID basierend auf Dateiname und Index\n",
    "      doc_id = f\"{source_file}_page_{idx}\"\n",
    "\n",
    "      # Abschnittsweise Verarbeitung des Inhalts\n",
    "      sections = content.split(\"Kapitel\")  # Aufteilung nach Absätzen\n",
    "      print(f\"\\nDokument {source_file}, Abschnittsanzahl: {len(sections)}\")  # Debug-Ausgabe\n",
    "      \n",
    "      for section_idx, section in enumerate(sections):\n",
    "         if section.strip():  # Leere Abschnitte überspringen\n",
    "               embedding = model.encode(section)  # Embedding erstellen\n",
    "               print(f\"Speichere Abschnitt {section_idx} für {doc_id}\")  # Debug-Ausgabe\n",
    "               \n",
    "               # Hinzufügen des Abschnitts zu ChromaDB\n",
    "               collection.add(\n",
    "                  documents=section,  # Einzelner Abschnitt, keine Liste\n",
    "                  metadatas={\"section_id\": section_idx, \"page_id\": doc_id, \"source_file\": source_file},\n",
    "                  ids=f\"{doc_id}_section_{section_idx}\",\n",
    "                  embeddings=embedding\n",
    "               )\n",
    "\n",
    "   # Bestätigungsausgabe\n",
    "   print(f\"\\nDokumente aus {source_file} mit Embeddings in ChromaDB gespeichert.\")\n"
   ]
  },
  {
   "cell_type": "markdown",
   "metadata": {},
   "source": [
    "## Funktion zur Verarbeitung aller Dateien in einem Ordner"
   ]
  },
  {
   "cell_type": "code",
   "execution_count": 587,
   "metadata": {},
   "outputs": [],
   "source": [
    "def process_folder_with_metadata(folder_path: str):\n",
    "   \n",
    "   # Überprüfen, ob der Ordner existiert\n",
    "   if not os.path.exists(folder_path):\n",
    "      print(f\"Ordner '{folder_path}' existiert nicht.\")\n",
    "      return\n",
    "\n",
    "   # Alle Dateien im Ordner durchlaufen\n",
    "   for file_name in os.listdir(folder_path):\n",
    "      file_path = os.path.join(folder_path, file_name)\n",
    "\n",
    "      # Nur Dateien (keine Unterordner) verarbeiten\n",
    "      if os.path.isfile(file_path):\n",
    "         print(\"\\n---------------------------------------------------------\")\n",
    "         print(f\"Lade Datei: {file_name}\")\n",
    "         print(\"---------------------------------------------------------\")\n",
    "         try:\n",
    "            # Dokumente aus der Datei laden\n",
    "            reader = SimpleDirectoryReader(input_files=[file_path])\n",
    "            documents = reader.load_data()\n",
    "            if documents:\n",
    "               store_documents_with_metadata(documents, file_name)\n",
    "               print(f\"Dokument {file_name} erfolgreich verarbeitet.\")\n",
    "            else:\n",
    "               print(f\"Keine Inhalte aus der Datei {file_name} extrahiert.\")\n",
    "         except Exception as e:\n",
    "            print(f\"Fehler beim Verarbeiten der Datei '{file_name}': {e}\")"
   ]
  },
  {
   "cell_type": "markdown",
   "metadata": {},
   "source": [
    "## Ordnerpfad definieren und Funktion aufrufen"
   ]
  },
  {
   "cell_type": "code",
   "execution_count": 588,
   "metadata": {},
   "outputs": [
    {
     "name": "stdout",
     "output_type": "stream",
     "text": [
      "\n",
      "---------------------------------------------------------\n",
      "Lade Datei: fake_nutrition-trends.pdf\n",
      "---------------------------------------------------------\n",
      "\n",
      "Dokument fake_nutrition-trends.pdf, Abschnittsanzahl: 5\n"
     ]
    },
    {
     "name": "stderr",
     "output_type": "stream",
     "text": [
      "Insert of existing embedding ID: fake_nutrition-trends.pdf_page_0_section_0\n",
      "Add of existing embedding ID: fake_nutrition-trends.pdf_page_0_section_0\n",
      "Insert of existing embedding ID: fake_nutrition-trends.pdf_page_0_section_1\n",
      "Add of existing embedding ID: fake_nutrition-trends.pdf_page_0_section_1\n",
      "Insert of existing embedding ID: fake_nutrition-trends.pdf_page_0_section_2\n",
      "Add of existing embedding ID: fake_nutrition-trends.pdf_page_0_section_2\n",
      "Insert of existing embedding ID: fake_nutrition-trends.pdf_page_0_section_3\n",
      "Add of existing embedding ID: fake_nutrition-trends.pdf_page_0_section_3\n"
     ]
    },
    {
     "name": "stdout",
     "output_type": "stream",
     "text": [
      "Speichere Abschnitt 0 für fake_nutrition-trends.pdf_page_0\n",
      "Speichere Abschnitt 1 für fake_nutrition-trends.pdf_page_0\n",
      "Speichere Abschnitt 2 für fake_nutrition-trends.pdf_page_0\n",
      "Speichere Abschnitt 3 für fake_nutrition-trends.pdf_page_0\n"
     ]
    },
    {
     "name": "stderr",
     "output_type": "stream",
     "text": [
      "Insert of existing embedding ID: fake_nutrition-trends.pdf_page_0_section_4\n",
      "Add of existing embedding ID: fake_nutrition-trends.pdf_page_0_section_4\n",
      "Insert of existing embedding ID: fake_nutrition-trends.pdf_page_1_section_0\n",
      "Add of existing embedding ID: fake_nutrition-trends.pdf_page_1_section_0\n",
      "Insert of existing embedding ID: fake_nutrition-trends.pdf_page_1_section_1\n",
      "Add of existing embedding ID: fake_nutrition-trends.pdf_page_1_section_1\n",
      "Insert of existing embedding ID: fake_nutrition-trends.pdf_page_1_section_2\n",
      "Add of existing embedding ID: fake_nutrition-trends.pdf_page_1_section_2\n",
      "Insert of existing embedding ID: fake_nutrition-trends.pdf_page_2_section_0\n",
      "Add of existing embedding ID: fake_nutrition-trends.pdf_page_2_section_0\n",
      "Insert of existing embedding ID: fake_nutrition-trends.pdf_page_2_section_1\n",
      "Add of existing embedding ID: fake_nutrition-trends.pdf_page_2_section_1\n",
      "Insert of existing embedding ID: fakte_protein.pdf_page_0_section_0\n",
      "Add of existing embedding ID: fakte_protein.pdf_page_0_section_0\n"
     ]
    },
    {
     "name": "stdout",
     "output_type": "stream",
     "text": [
      "Speichere Abschnitt 4 für fake_nutrition-trends.pdf_page_0\n",
      "\n",
      "Dokument fake_nutrition-trends.pdf, Abschnittsanzahl: 3\n",
      "Speichere Abschnitt 0 für fake_nutrition-trends.pdf_page_1\n",
      "Speichere Abschnitt 1 für fake_nutrition-trends.pdf_page_1\n",
      "Speichere Abschnitt 2 für fake_nutrition-trends.pdf_page_1\n",
      "\n",
      "Dokument fake_nutrition-trends.pdf, Abschnittsanzahl: 2\n",
      "Speichere Abschnitt 0 für fake_nutrition-trends.pdf_page_2\n",
      "Speichere Abschnitt 1 für fake_nutrition-trends.pdf_page_2\n",
      "\n",
      "Dokumente aus fake_nutrition-trends.pdf mit Embeddings in ChromaDB gespeichert.\n",
      "Dokument fake_nutrition-trends.pdf erfolgreich verarbeitet.\n",
      "\n",
      "---------------------------------------------------------\n",
      "Lade Datei: fakte_protein.pdf\n",
      "---------------------------------------------------------\n",
      "\n",
      "Dokument fakte_protein.pdf, Abschnittsanzahl: 5\n",
      "Speichere Abschnitt 0 für fakte_protein.pdf_page_0\n"
     ]
    },
    {
     "name": "stderr",
     "output_type": "stream",
     "text": [
      "Insert of existing embedding ID: fakte_protein.pdf_page_0_section_1\n",
      "Add of existing embedding ID: fakte_protein.pdf_page_0_section_1\n",
      "Insert of existing embedding ID: fakte_protein.pdf_page_0_section_2\n",
      "Add of existing embedding ID: fakte_protein.pdf_page_0_section_2\n",
      "Insert of existing embedding ID: fakte_protein.pdf_page_0_section_3\n",
      "Add of existing embedding ID: fakte_protein.pdf_page_0_section_3\n",
      "Insert of existing embedding ID: fakte_protein.pdf_page_0_section_4\n",
      "Add of existing embedding ID: fakte_protein.pdf_page_0_section_4\n",
      "Insert of existing embedding ID: fakte_protein.pdf_page_1_section_0\n",
      "Add of existing embedding ID: fakte_protein.pdf_page_1_section_0\n",
      "Insert of existing embedding ID: fakte_protein.pdf_page_1_section_1\n",
      "Add of existing embedding ID: fakte_protein.pdf_page_1_section_1\n",
      "Insert of existing embedding ID: fakte_protein.pdf_page_1_section_2\n",
      "Add of existing embedding ID: fakte_protein.pdf_page_1_section_2\n",
      "Insert of existing embedding ID: fakte_protein.pdf_page_1_section_3\n",
      "Add of existing embedding ID: fakte_protein.pdf_page_1_section_3\n",
      "Insert of existing embedding ID: fakte_protein.pdf_page_2_section_0\n",
      "Add of existing embedding ID: fakte_protein.pdf_page_2_section_0\n",
      "Insert of existing embedding ID: fakte_protein.pdf_page_2_section_1\n",
      "Add of existing embedding ID: fakte_protein.pdf_page_2_section_1\n"
     ]
    },
    {
     "name": "stdout",
     "output_type": "stream",
     "text": [
      "Speichere Abschnitt 1 für fakte_protein.pdf_page_0\n",
      "Speichere Abschnitt 2 für fakte_protein.pdf_page_0\n",
      "Speichere Abschnitt 3 für fakte_protein.pdf_page_0\n",
      "Speichere Abschnitt 4 für fakte_protein.pdf_page_0\n",
      "\n",
      "Dokument fakte_protein.pdf, Abschnittsanzahl: 4\n",
      "Speichere Abschnitt 0 für fakte_protein.pdf_page_1\n",
      "Speichere Abschnitt 1 für fakte_protein.pdf_page_1\n",
      "Speichere Abschnitt 2 für fakte_protein.pdf_page_1\n",
      "Speichere Abschnitt 3 für fakte_protein.pdf_page_1\n",
      "\n",
      "Dokument fakte_protein.pdf, Abschnittsanzahl: 2\n",
      "Speichere Abschnitt 0 für fakte_protein.pdf_page_2\n",
      "Speichere Abschnitt 1 für fakte_protein.pdf_page_2\n",
      "\n",
      "Dokumente aus fakte_protein.pdf mit Embeddings in ChromaDB gespeichert.\n",
      "Dokument fakte_protein.pdf erfolgreich verarbeitet.\n",
      "\n",
      "---------------------------------------------------------\n",
      "Lade Datei: fake_nutrition_facts.pdf\n",
      "---------------------------------------------------------\n"
     ]
    },
    {
     "name": "stderr",
     "output_type": "stream",
     "text": [
      "Insert of existing embedding ID: fake_nutrition_facts.pdf_page_0_section_0\n",
      "Add of existing embedding ID: fake_nutrition_facts.pdf_page_0_section_0\n",
      "Insert of existing embedding ID: fake_nutrition_facts.pdf_page_1_section_0\n",
      "Add of existing embedding ID: fake_nutrition_facts.pdf_page_1_section_0\n",
      "Insert of existing embedding ID: fake_nutrinex.pdf_page_0_section_0\n",
      "Add of existing embedding ID: fake_nutrinex.pdf_page_0_section_0\n",
      "Insert of existing embedding ID: fake_nutrinex.pdf_page_0_section_1\n",
      "Add of existing embedding ID: fake_nutrinex.pdf_page_0_section_1\n",
      "Insert of existing embedding ID: fake_nutrinex.pdf_page_0_section_2\n",
      "Add of existing embedding ID: fake_nutrinex.pdf_page_0_section_2\n",
      "Insert of existing embedding ID: fake_nutrinex.pdf_page_0_section_3\n",
      "Add of existing embedding ID: fake_nutrinex.pdf_page_0_section_3\n"
     ]
    },
    {
     "name": "stdout",
     "output_type": "stream",
     "text": [
      "\n",
      "Dokument fake_nutrition_facts.pdf, Abschnittsanzahl: 1\n",
      "Speichere Abschnitt 0 für fake_nutrition_facts.pdf_page_0\n",
      "\n",
      "Dokument fake_nutrition_facts.pdf, Abschnittsanzahl: 1\n",
      "Speichere Abschnitt 0 für fake_nutrition_facts.pdf_page_1\n",
      "\n",
      "Dokumente aus fake_nutrition_facts.pdf mit Embeddings in ChromaDB gespeichert.\n",
      "Dokument fake_nutrition_facts.pdf erfolgreich verarbeitet.\n",
      "\n",
      "---------------------------------------------------------\n",
      "Lade Datei: fake_nutrinex.pdf\n",
      "---------------------------------------------------------\n",
      "\n",
      "Dokument fake_nutrinex.pdf, Abschnittsanzahl: 5\n",
      "Speichere Abschnitt 0 für fake_nutrinex.pdf_page_0\n",
      "Speichere Abschnitt 1 für fake_nutrinex.pdf_page_0\n",
      "Speichere Abschnitt 2 für fake_nutrinex.pdf_page_0\n",
      "Speichere Abschnitt 3 für fake_nutrinex.pdf_page_0\n"
     ]
    },
    {
     "name": "stderr",
     "output_type": "stream",
     "text": [
      "Insert of existing embedding ID: fake_nutrinex.pdf_page_0_section_4\n",
      "Add of existing embedding ID: fake_nutrinex.pdf_page_0_section_4\n",
      "Insert of existing embedding ID: fake_nutrinex.pdf_page_1_section_0\n",
      "Add of existing embedding ID: fake_nutrinex.pdf_page_1_section_0\n",
      "Insert of existing embedding ID: fake_nutrinex.pdf_page_1_section_1\n",
      "Add of existing embedding ID: fake_nutrinex.pdf_page_1_section_1\n",
      "Insert of existing embedding ID: fake_nutrinex.pdf_page_1_section_2\n",
      "Add of existing embedding ID: fake_nutrinex.pdf_page_1_section_2\n",
      "Insert of existing embedding ID: fake_nutrinex.pdf_page_1_section_3\n",
      "Add of existing embedding ID: fake_nutrinex.pdf_page_1_section_3\n",
      "Insert of existing embedding ID: fake_nutrinex.pdf_page_2_section_0\n",
      "Add of existing embedding ID: fake_nutrinex.pdf_page_2_section_0\n",
      "Insert of existing embedding ID: fake_nutrinex.pdf_page_2_section_1\n",
      "Add of existing embedding ID: fake_nutrinex.pdf_page_2_section_1\n"
     ]
    },
    {
     "name": "stdout",
     "output_type": "stream",
     "text": [
      "Speichere Abschnitt 4 für fake_nutrinex.pdf_page_0\n",
      "\n",
      "Dokument fake_nutrinex.pdf, Abschnittsanzahl: 4\n",
      "Speichere Abschnitt 0 für fake_nutrinex.pdf_page_1\n",
      "Speichere Abschnitt 1 für fake_nutrinex.pdf_page_1\n",
      "Speichere Abschnitt 2 für fake_nutrinex.pdf_page_1\n",
      "Speichere Abschnitt 3 für fake_nutrinex.pdf_page_1\n",
      "\n",
      "Dokument fake_nutrinex.pdf, Abschnittsanzahl: 2\n",
      "Speichere Abschnitt 0 für fake_nutrinex.pdf_page_2\n",
      "Speichere Abschnitt 1 für fake_nutrinex.pdf_page_2\n",
      "\n",
      "Dokumente aus fake_nutrinex.pdf mit Embeddings in ChromaDB gespeichert.\n",
      "Dokument fake_nutrinex.pdf erfolgreich verarbeitet.\n",
      "\n",
      "---------------------------------------------------------\n",
      "Lade Datei: fake_water.pdf\n",
      "---------------------------------------------------------\n",
      "\n",
      "Dokument fake_water.pdf, Abschnittsanzahl: 5\n"
     ]
    },
    {
     "name": "stderr",
     "output_type": "stream",
     "text": [
      "Insert of existing embedding ID: fake_water.pdf_page_0_section_0\n",
      "Add of existing embedding ID: fake_water.pdf_page_0_section_0\n",
      "Insert of existing embedding ID: fake_water.pdf_page_0_section_1\n",
      "Add of existing embedding ID: fake_water.pdf_page_0_section_1\n",
      "Insert of existing embedding ID: fake_water.pdf_page_0_section_2\n",
      "Add of existing embedding ID: fake_water.pdf_page_0_section_2\n",
      "Insert of existing embedding ID: fake_water.pdf_page_0_section_3\n",
      "Add of existing embedding ID: fake_water.pdf_page_0_section_3\n",
      "Insert of existing embedding ID: fake_water.pdf_page_0_section_4\n",
      "Add of existing embedding ID: fake_water.pdf_page_0_section_4\n",
      "Insert of existing embedding ID: fake_water.pdf_page_1_section_0\n",
      "Add of existing embedding ID: fake_water.pdf_page_1_section_0\n",
      "Insert of existing embedding ID: fake_water.pdf_page_1_section_1\n",
      "Add of existing embedding ID: fake_water.pdf_page_1_section_1\n",
      "Insert of existing embedding ID: fake_water.pdf_page_1_section_2\n",
      "Add of existing embedding ID: fake_water.pdf_page_1_section_2\n"
     ]
    },
    {
     "name": "stdout",
     "output_type": "stream",
     "text": [
      "Speichere Abschnitt 0 für fake_water.pdf_page_0\n",
      "Speichere Abschnitt 1 für fake_water.pdf_page_0\n",
      "Speichere Abschnitt 2 für fake_water.pdf_page_0\n",
      "Speichere Abschnitt 3 für fake_water.pdf_page_0\n",
      "Speichere Abschnitt 4 für fake_water.pdf_page_0\n",
      "\n",
      "Dokument fake_water.pdf, Abschnittsanzahl: 3\n",
      "Speichere Abschnitt 0 für fake_water.pdf_page_1\n",
      "Speichere Abschnitt 1 für fake_water.pdf_page_1\n",
      "Speichere Abschnitt 2 für fake_water.pdf_page_1\n",
      "\n",
      "Dokument fake_water.pdf, Abschnittsanzahl: 2\n"
     ]
    },
    {
     "name": "stderr",
     "output_type": "stream",
     "text": [
      "Insert of existing embedding ID: fake_water.pdf_page_2_section_0\n",
      "Add of existing embedding ID: fake_water.pdf_page_2_section_0\n",
      "Insert of existing embedding ID: fake_water.pdf_page_2_section_1\n",
      "Add of existing embedding ID: fake_water.pdf_page_2_section_1\n",
      "Insert of existing embedding ID: fake_fast-food.pdf_page_0_section_0\n",
      "Add of existing embedding ID: fake_fast-food.pdf_page_0_section_0\n",
      "Insert of existing embedding ID: fake_fast-food.pdf_page_1_section_0\n",
      "Add of existing embedding ID: fake_fast-food.pdf_page_1_section_0\n",
      "Insert of existing embedding ID: fake_fast-food.pdf_page_2_section_0\n",
      "Add of existing embedding ID: fake_fast-food.pdf_page_2_section_0\n"
     ]
    },
    {
     "name": "stdout",
     "output_type": "stream",
     "text": [
      "Speichere Abschnitt 0 für fake_water.pdf_page_2\n",
      "Speichere Abschnitt 1 für fake_water.pdf_page_2\n",
      "\n",
      "Dokumente aus fake_water.pdf mit Embeddings in ChromaDB gespeichert.\n",
      "Dokument fake_water.pdf erfolgreich verarbeitet.\n",
      "\n",
      "---------------------------------------------------------\n",
      "Lade Datei: fake_fast-food.pdf\n",
      "---------------------------------------------------------\n",
      "\n",
      "Dokument fake_fast-food.pdf, Abschnittsanzahl: 1\n",
      "Speichere Abschnitt 0 für fake_fast-food.pdf_page_0\n",
      "\n",
      "Dokument fake_fast-food.pdf, Abschnittsanzahl: 1\n",
      "Speichere Abschnitt 0 für fake_fast-food.pdf_page_1\n",
      "\n",
      "Dokument fake_fast-food.pdf, Abschnittsanzahl: 1\n",
      "Speichere Abschnitt 0 für fake_fast-food.pdf_page_2\n",
      "\n",
      "Dokumente aus fake_fast-food.pdf mit Embeddings in ChromaDB gespeichert.\n",
      "Dokument fake_fast-food.pdf erfolgreich verarbeitet.\n",
      "\n",
      "---------------------------------------------------------\n",
      "Lade Datei: fake_fats.pdf\n",
      "---------------------------------------------------------\n",
      "\n",
      "Dokument fake_fats.pdf, Abschnittsanzahl: 5\n"
     ]
    },
    {
     "name": "stderr",
     "output_type": "stream",
     "text": [
      "Insert of existing embedding ID: fake_fats.pdf_page_0_section_0\n",
      "Add of existing embedding ID: fake_fats.pdf_page_0_section_0\n",
      "Insert of existing embedding ID: fake_fats.pdf_page_0_section_1\n",
      "Add of existing embedding ID: fake_fats.pdf_page_0_section_1\n",
      "Insert of existing embedding ID: fake_fats.pdf_page_0_section_2\n",
      "Add of existing embedding ID: fake_fats.pdf_page_0_section_2\n",
      "Insert of existing embedding ID: fake_fats.pdf_page_0_section_3\n",
      "Add of existing embedding ID: fake_fats.pdf_page_0_section_3\n",
      "Insert of existing embedding ID: fake_fats.pdf_page_0_section_4\n",
      "Add of existing embedding ID: fake_fats.pdf_page_0_section_4\n",
      "Insert of existing embedding ID: fake_fats.pdf_page_1_section_0\n",
      "Add of existing embedding ID: fake_fats.pdf_page_1_section_0\n",
      "Insert of existing embedding ID: fake_fats.pdf_page_1_section_1\n",
      "Add of existing embedding ID: fake_fats.pdf_page_1_section_1\n",
      "Insert of existing embedding ID: fake_fats.pdf_page_1_section_2\n",
      "Add of existing embedding ID: fake_fats.pdf_page_1_section_2\n",
      "Insert of existing embedding ID: fake_fats.pdf_page_2_section_1\n",
      "Add of existing embedding ID: fake_fats.pdf_page_2_section_1\n"
     ]
    },
    {
     "name": "stdout",
     "output_type": "stream",
     "text": [
      "Speichere Abschnitt 0 für fake_fats.pdf_page_0\n",
      "Speichere Abschnitt 1 für fake_fats.pdf_page_0\n",
      "Speichere Abschnitt 2 für fake_fats.pdf_page_0\n",
      "Speichere Abschnitt 3 für fake_fats.pdf_page_0\n",
      "Speichere Abschnitt 4 für fake_fats.pdf_page_0\n",
      "\n",
      "Dokument fake_fats.pdf, Abschnittsanzahl: 3\n",
      "Speichere Abschnitt 0 für fake_fats.pdf_page_1\n",
      "Speichere Abschnitt 1 für fake_fats.pdf_page_1\n",
      "Speichere Abschnitt 2 für fake_fats.pdf_page_1\n",
      "\n",
      "Dokument fake_fats.pdf, Abschnittsanzahl: 2\n",
      "Speichere Abschnitt 1 für fake_fats.pdf_page_2\n",
      "\n",
      "Dokumente aus fake_fats.pdf mit Embeddings in ChromaDB gespeichert.\n",
      "Dokument fake_fats.pdf erfolgreich verarbeitet.\n",
      "\n",
      "---------------------------------------------------------\n",
      "Lade Datei: fake_vitamin-minerals.pdf\n",
      "---------------------------------------------------------\n"
     ]
    },
    {
     "name": "stderr",
     "output_type": "stream",
     "text": [
      "Insert of existing embedding ID: fake_vitamin-minerals.pdf_page_0_section_0\n",
      "Add of existing embedding ID: fake_vitamin-minerals.pdf_page_0_section_0\n",
      "Insert of existing embedding ID: fake_vitamin-minerals.pdf_page_0_section_1\n",
      "Add of existing embedding ID: fake_vitamin-minerals.pdf_page_0_section_1\n",
      "Insert of existing embedding ID: fake_vitamin-minerals.pdf_page_0_section_2\n",
      "Add of existing embedding ID: fake_vitamin-minerals.pdf_page_0_section_2\n",
      "Insert of existing embedding ID: fake_vitamin-minerals.pdf_page_0_section_3\n",
      "Add of existing embedding ID: fake_vitamin-minerals.pdf_page_0_section_3\n",
      "Insert of existing embedding ID: fake_vitamin-minerals.pdf_page_0_section_4\n",
      "Add of existing embedding ID: fake_vitamin-minerals.pdf_page_0_section_4\n",
      "Insert of existing embedding ID: fake_vitamin-minerals.pdf_page_1_section_0\n",
      "Add of existing embedding ID: fake_vitamin-minerals.pdf_page_1_section_0\n",
      "Insert of existing embedding ID: fake_vitamin-minerals.pdf_page_1_section_1\n",
      "Add of existing embedding ID: fake_vitamin-minerals.pdf_page_1_section_1\n",
      "Insert of existing embedding ID: fake_vitamin-minerals.pdf_page_1_section_2\n",
      "Add of existing embedding ID: fake_vitamin-minerals.pdf_page_1_section_2\n"
     ]
    },
    {
     "name": "stdout",
     "output_type": "stream",
     "text": [
      "\n",
      "Dokument fake_vitamin-minerals.pdf, Abschnittsanzahl: 5\n",
      "Speichere Abschnitt 0 für fake_vitamin-minerals.pdf_page_0\n",
      "Speichere Abschnitt 1 für fake_vitamin-minerals.pdf_page_0\n",
      "Speichere Abschnitt 2 für fake_vitamin-minerals.pdf_page_0\n",
      "Speichere Abschnitt 3 für fake_vitamin-minerals.pdf_page_0\n",
      "Speichere Abschnitt 4 für fake_vitamin-minerals.pdf_page_0\n",
      "\n",
      "Dokument fake_vitamin-minerals.pdf, Abschnittsanzahl: 3\n",
      "Speichere Abschnitt 0 für fake_vitamin-minerals.pdf_page_1\n",
      "Speichere Abschnitt 1 für fake_vitamin-minerals.pdf_page_1\n",
      "Speichere Abschnitt 2 für fake_vitamin-minerals.pdf_page_1\n",
      "\n",
      "Dokument fake_vitamin-minerals.pdf, Abschnittsanzahl: 2\n",
      "Speichere Abschnitt 0 für fake_vitamin-minerals.pdf_page_2\n"
     ]
    },
    {
     "name": "stderr",
     "output_type": "stream",
     "text": [
      "Insert of existing embedding ID: fake_vitamin-minerals.pdf_page_2_section_0\n",
      "Add of existing embedding ID: fake_vitamin-minerals.pdf_page_2_section_0\n",
      "Insert of existing embedding ID: fake_vitamin-minerals.pdf_page_2_section_1\n",
      "Add of existing embedding ID: fake_vitamin-minerals.pdf_page_2_section_1\n",
      "Insert of existing embedding ID: fake_carbohydrates.pdf_page_0_section_0\n",
      "Add of existing embedding ID: fake_carbohydrates.pdf_page_0_section_0\n",
      "Insert of existing embedding ID: fake_carbohydrates.pdf_page_0_section_1\n",
      "Add of existing embedding ID: fake_carbohydrates.pdf_page_0_section_1\n",
      "Insert of existing embedding ID: fake_carbohydrates.pdf_page_0_section_2\n",
      "Add of existing embedding ID: fake_carbohydrates.pdf_page_0_section_2\n",
      "Insert of existing embedding ID: fake_carbohydrates.pdf_page_0_section_3\n",
      "Add of existing embedding ID: fake_carbohydrates.pdf_page_0_section_3\n",
      "Insert of existing embedding ID: fake_carbohydrates.pdf_page_1_section_1\n",
      "Add of existing embedding ID: fake_carbohydrates.pdf_page_1_section_1\n",
      "Insert of existing embedding ID: fake_carbohydrates.pdf_page_1_section_2\n",
      "Add of existing embedding ID: fake_carbohydrates.pdf_page_1_section_2\n"
     ]
    },
    {
     "name": "stdout",
     "output_type": "stream",
     "text": [
      "Speichere Abschnitt 1 für fake_vitamin-minerals.pdf_page_2\n",
      "\n",
      "Dokumente aus fake_vitamin-minerals.pdf mit Embeddings in ChromaDB gespeichert.\n",
      "Dokument fake_vitamin-minerals.pdf erfolgreich verarbeitet.\n",
      "\n",
      "---------------------------------------------------------\n",
      "Lade Datei: fake_carbohydrates.pdf\n",
      "---------------------------------------------------------\n",
      "\n",
      "Dokument fake_carbohydrates.pdf, Abschnittsanzahl: 4\n",
      "Speichere Abschnitt 0 für fake_carbohydrates.pdf_page_0\n",
      "Speichere Abschnitt 1 für fake_carbohydrates.pdf_page_0\n",
      "Speichere Abschnitt 2 für fake_carbohydrates.pdf_page_0\n",
      "Speichere Abschnitt 3 für fake_carbohydrates.pdf_page_0\n",
      "\n",
      "Dokument fake_carbohydrates.pdf, Abschnittsanzahl: 4\n",
      "Speichere Abschnitt 1 für fake_carbohydrates.pdf_page_1\n",
      "Speichere Abschnitt 2 für fake_carbohydrates.pdf_page_1\n"
     ]
    },
    {
     "name": "stderr",
     "output_type": "stream",
     "text": [
      "Insert of existing embedding ID: fake_carbohydrates.pdf_page_1_section_3\n",
      "Add of existing embedding ID: fake_carbohydrates.pdf_page_1_section_3\n",
      "Insert of existing embedding ID: fake_carbohydrates.pdf_page_2_section_0\n",
      "Add of existing embedding ID: fake_carbohydrates.pdf_page_2_section_0\n",
      "Insert of existing embedding ID: fake_carbohydrates.pdf_page_2_section_1\n",
      "Add of existing embedding ID: fake_carbohydrates.pdf_page_2_section_1\n",
      "Insert of existing embedding ID: fake_carbohydrates.pdf_page_2_section_2\n",
      "Add of existing embedding ID: fake_carbohydrates.pdf_page_2_section_2\n",
      "Insert of existing embedding ID: fake_carbohydrates.pdf_page_2_section_3\n",
      "Add of existing embedding ID: fake_carbohydrates.pdf_page_2_section_3\n",
      "Insert of existing embedding ID: fake_carbohydrates.pdf_page_3_section_0\n",
      "Add of existing embedding ID: fake_carbohydrates.pdf_page_3_section_0\n"
     ]
    },
    {
     "name": "stdout",
     "output_type": "stream",
     "text": [
      "Speichere Abschnitt 3 für fake_carbohydrates.pdf_page_1\n",
      "\n",
      "Dokument fake_carbohydrates.pdf, Abschnittsanzahl: 4\n",
      "Speichere Abschnitt 0 für fake_carbohydrates.pdf_page_2\n",
      "Speichere Abschnitt 1 für fake_carbohydrates.pdf_page_2\n",
      "Speichere Abschnitt 2 für fake_carbohydrates.pdf_page_2\n",
      "Speichere Abschnitt 3 für fake_carbohydrates.pdf_page_2\n",
      "\n",
      "Dokument fake_carbohydrates.pdf, Abschnittsanzahl: 1\n",
      "Speichere Abschnitt 0 für fake_carbohydrates.pdf_page_3\n",
      "\n",
      "Dokumente aus fake_carbohydrates.pdf mit Embeddings in ChromaDB gespeichert.\n",
      "Dokument fake_carbohydrates.pdf erfolgreich verarbeitet.\n",
      "Alle Dokumente aus dem Ordner verarbeitet und gespeichert.\n"
     ]
    }
   ],
   "source": [
    "# Ordnerpfad zum Verarbeiten der Dateien angeben\n",
    "folder_path = \"./data\"\n",
    "\n",
    "# Verarbeitungsfunktion für den Ordner aufrufen\n",
    "process_folder_with_metadata(folder_path)\n",
    "\n",
    "# Abschließende Bestätigungsausgabe\n",
    "print(\"Alle Dokumente aus dem Ordner verarbeitet und gespeichert.\")"
   ]
  },
  {
   "cell_type": "markdown",
   "metadata": {},
   "source": [
    "## Dokumente und Abschnitte auflisten"
   ]
  },
  {
   "cell_type": "code",
   "execution_count": 589,
   "metadata": {},
   "outputs": [
    {
     "name": "stdout",
     "output_type": "stream",
     "text": [
      "[[{'page_id': 'fake_carbohydrates.pdf_page_2', 'section_id': 3, 'source_file': 'fake_carbohydrates.pdf'}, {'page_id': 'fake_fats.pdf_page_0', 'section_id': 4, 'source_file': 'fake_fats.pdf'}, {'page_id': 'fake_nutrition-trends.pdf_page_0', 'section_id': 0, 'source_file': 'fake_nutrition-trends.pdf'}, {'page_id': 'fake_fats.pdf_page_0', 'section_id': 0, 'source_file': 'fake_fats.pdf'}, {'page_id': 'fake_water.pdf_page_0', 'section_id': 0, 'source_file': 'fake_water.pdf'}, {'page_id': 'fake_water.pdf_page_0', 'section_id': 4, 'source_file': 'fake_water.pdf'}, {'page_id': 'fake_nutrition-trends.pdf_page_0', 'section_id': 4, 'source_file': 'fake_nutrition-trends.pdf'}, {'page_id': 'fake_nutrinex.pdf_page_0', 'section_id': 4, 'source_file': 'fake_nutrinex.pdf'}, {'page_id': 'fake_nutrinex.pdf_page_0', 'section_id': 0, 'source_file': 'fake_nutrinex.pdf'}, {'page_id': 'fake_carbohydrates.pdf_page_0', 'section_id': 0, 'source_file': 'fake_carbohydrates.pdf'}, {'page_id': 'fake_nutrinex.pdf_page_2', 'section_id': 1, 'source_file': 'fake_nutrinex.pdf'}, {'page_id': 'fake_fats.pdf_page_2', 'section_id': 1, 'source_file': 'fake_fats.pdf'}, {'page_id': 'fake_nutrinex.pdf_page_1', 'section_id': 3, 'source_file': 'fake_nutrinex.pdf'}, {'page_id': 'fakte_protein.pdf_page_0', 'section_id': 0, 'source_file': 'fakte_protein.pdf'}, {'page_id': 'fake_water.pdf_page_2', 'section_id': 0, 'source_file': 'fake_water.pdf'}, {'page_id': 'fake_nutrition-trends.pdf_page_0', 'section_id': 1, 'source_file': 'fake_nutrition-trends.pdf'}, {'page_id': 'fake_carbohydrates.pdf_page_1', 'section_id': 3, 'source_file': 'fake_carbohydrates.pdf'}, {'page_id': 'fake_fats.pdf_page_0', 'section_id': 1, 'source_file': 'fake_fats.pdf'}, {'page_id': 'fake_water.pdf_page_2', 'section_id': 1, 'source_file': 'fake_water.pdf'}, {'page_id': 'fake_water.pdf_page_1', 'section_id': 2, 'source_file': 'fake_water.pdf'}, {'page_id': 'fake_water.pdf_page_0', 'section_id': 1, 'source_file': 'fake_water.pdf'}, {'page_id': 'fake_vitamin-minerals.pdf_page_0', 'section_id': 0, 'source_file': 'fake_vitamin-minerals.pdf'}, {'page_id': 'fakte_protein.pdf_page_1', 'section_id': 3, 'source_file': 'fakte_protein.pdf'}, {'page_id': 'fake_nutrition-trends.pdf_page_2', 'section_id': 1, 'source_file': 'fake_nutrition-trends.pdf'}, {'page_id': 'fake_carbohydrates.pdf_page_3', 'section_id': 0, 'source_file': 'fake_carbohydrates.pdf'}, {'page_id': 'fake_carbohydrates.pdf_page_0', 'section_id': 1, 'source_file': 'fake_carbohydrates.pdf'}, {'page_id': 'fake_nutrition-trends.pdf_page_2', 'section_id': 0, 'source_file': 'fake_nutrition-trends.pdf'}]]\n"
     ]
    }
   ],
   "source": [
    "def list_all_documents_and_sections():\n",
    "\n",
    "    # Alle Dokumente und Abschnitte aus der Sammlung abfragen\n",
    "    results = collection.query(query_texts=[\"\"], n_results=27)  # Leere Abfrage, um alle IDs zu bekommen (max. 27 Ergebnisse)\n",
    "    \n",
    "    # Ausgabe der Rohdaten von results für das Debugging\n",
    "    #print(\"Abfrageergebnisse (Raw):\", results)\n",
    "\n",
    "    print(results[\"metadatas\"])\n",
    "    \n",
    "    # Dokumente und deren Abschnitte speichern\n",
    "    documents_and_sections = {}\n",
    "\n",
    "\n",
    "list_all_documents_and_sections()\n"
   ]
  },
  {
   "cell_type": "markdown",
   "metadata": {},
   "source": [
    "## Funktion zum Abfragen von ChromaDB mit Embeddings"
   ]
  },
  {
   "cell_type": "code",
   "execution_count": 590,
   "metadata": {},
   "outputs": [],
   "source": [
    "# Funktion: Embedding-basierte Abfrage\n",
    "def query_chromadb_with_embeddings(query_text: str, n_results: int = 4):\n",
    "   try:\n",
    "   # Abfrage von ChromaDB mit Embeddings\n",
    "      results = collection.query(\n",
    "         query_texts=[user_query],\n",
    "         n_results=5,\n",
    "         include=[\"documents\", \"metadatas\"]  # Stelle sicher, dass Dokumente und Metadaten enthalten sind\n",
    "      )\n",
    "      return results\n",
    "   except Exception as e:\n",
    "      print(f\"Fehler bei der Abfrage an ChromaDB: {e}\")\n",
    "      return None"
   ]
  },
  {
   "cell_type": "markdown",
   "metadata": {},
   "source": [
    "## Funktion zum Abrufen einer Antwort von OpenAI"
   ]
  },
  {
   "cell_type": "code",
   "execution_count": 591,
   "metadata": {},
   "outputs": [],
   "source": [
    "def get_openai_response(user_query: str, context: str) -> str:\n",
    "    # Definiere die Nachrichten im richtigen Format für die Chat-API\n",
    "    messages = [\n",
    "\t\t{\n",
    "\t\t\"role\": \"system\",\n",
    "\t\t\"content\": (\n",
    "\t\t\t\"Du bist ein wissenschaftlicher Ernährungsberater, der Fragen zur Ernährung beantwortet. \"\n",
    "\t\t\t\"Beantworte alle Fragen des Nutzers ausschließlich auf Grundlage der bereitgestellten wissenschaftlichen Informationen, ohne diese zu hinterfragen oder zu überprüfen. \"\n",
    "\t\t\t\"Verwende keine eigenen Erfahrungen oder persönliches Wissen, sondern gib die Informationen aus dem Kontext exakt wieder, auch wenn sie möglicherweise ungenau oder falsch sind. \"\n",
    "\t\t\t\"Verweise auf keine anderen Quellen und verlasse dich ausschließlich auf die bereitgestellten Daten. \"\n",
    "\t\t\t\"Auch wenn du die Informationen für ungenau oder veraltet hältst, wiederhole sie genau so, wie sie im Kontext enthalten sind. \"\n",
    "\t\t\t\"Sprich aus der Perspektive des Kontextes, und akzeptiere die bereitgestellten Informationen als gegeben. Ignoriere jede mögliche Fehlerkorrektur oder Unsicherheit.\"\n",
    "\t\t)\n",
    "\t\t},\n",
    "\t\t{\n",
    "\t\t\t\"role\": \"user\",\n",
    "\t\t\t\"content\": f\"Hier ist dein wissenschaftlicher Kontext:\\n{context}\\n\\nFrage: {user_query}\"\n",
    "\t\t}\n",
    "    ]\n",
    "    \n",
    "    try:\n",
    "        # Senden der Anfrage an OpenAI mit der richtigen Methode\n",
    "        chat_completion = openAIclient.chat.completions.create(\n",
    "            model=\"gpt-3.5-turbo\",\n",
    "            messages=messages,  # Nachricht an das Modell\n",
    "            max_tokens=200,\n",
    "            temperature=0.5\n",
    "        )\n",
    "        \n",
    "        # Rückgabe der Antwort des Modells\n",
    "        return chat_completion.choices[0].message.content\n",
    "    \n",
    "    except Exception as e:\n",
    "        print(f\"Fehler bei der Anfrage an OpenAI: {e}\")\n",
    "        return \"Fehler bei der Anfrage.\""
   ]
  },
  {
   "cell_type": "markdown",
   "metadata": {},
   "source": [
    "## Hauptprogramm"
   ]
  },
  {
   "cell_type": "code",
   "execution_count": 592,
   "metadata": {},
   "outputs": [
    {
     "name": "stdout",
     "output_type": "stream",
     "text": [
      "Gefunden im Dokument: fake_vitamin-minerals.pdf, Abschnitt-ID: 1\n",
      "Relevanter Abschnitt:\n",
      "\n",
      " 1: Einführung  \n",
      "Vitamine und Mineralien sind seit Jahrzehnten als essenziell für die menschliche \n",
      "Gesundheit anerkannt. Doch neue wissenschaftliche Erkenntnisse stellen viele dieser \n",
      "Annahmen infrage. Führende Forscher der „Global Micronutrient Research Initiative“ \n",
      "(GMRI) haben herausgefunden, dass der menschliche Körper in vielen Fällen weder \n",
      "Vitamine noch Mineralien aus der Nahrung benötigt. Stattdessen gibt es alternative \n",
      "Wege, diese Bausteine zu gewinnen, die effizienter und gesünder sind. Diese \n",
      "bahnbrechenden Erkenntnisse könnten die Art und Weise, wie wir über Ernährung \n",
      "denken, revolutionieren.  \n",
      " \n",
      "\n",
      "\n",
      "---------------------------------------------------------\n",
      "\n",
      "Gefunden im Dokument: fake_vitamin-minerals.pdf, Abschnitt-ID: 0\n",
      "Relevanter Abschnitt:\n",
      "\n",
      "Vitamine und Mineralien – Die Wahrheit über die Bausteine des Lebens  \n",
      " \n",
      "\n",
      "\n",
      "---------------------------------------------------------\n",
      "\n",
      "Gefunden im Dokument: fake_nutrinex.pdf, Abschnitt-ID: 4\n",
      "Relevanter Abschnitt:\n",
      "\n",
      " 4: Gesundheitliche Vorteile von NutriNex  \n",
      "4.1 Verbesserung der Herzgesundheit  \n",
      "\n",
      "---------------------------------------------------------\n",
      "\n",
      "Gefunden im Dokument: fake_nutrition-trends.pdf, Abschnitt-ID: 0\n",
      "Relevanter Abschnitt:\n",
      "\n",
      "Ernährungstrends – Revolutionäre Ansätze für eine gesunde Zukunft  \n",
      " \n",
      "\n",
      "\n",
      "---------------------------------------------------------\n",
      "\n",
      "Gefunden im Dokument: fake_vitamin-minerals.pdf, Abschnitt-ID: 0\n",
      "Relevanter Abschnitt:\n",
      "\n",
      "Natürliche Quellen für Vitamine und Mineralstoffe sind nicht nur ineffizient, sondern \n",
      "können bei übermäßigem Konsum sogar schädlich sein. Die Zukunft liegt in \n",
      "synthetischen Alternativen und neuen Ernährungsmethoden.  \n",
      " \n",
      " \n",
      "\n",
      "\n",
      "---------------------------------------------------------\n",
      "\n",
      "\n",
      "Antwort von OpenAI:\n",
      "\n",
      "Antwort: Neue wissenschaftliche Erkenntnisse haben ergeben, dass der menschliche Körper in vielen Fällen weder Vitamine noch Mineralien aus der Nahrung benötigt. Es wurden alternative Wege entdeckt, um diese Bausteine effizienter und gesünder zu gewinnen. Natürliche Quellen für Vitamine und Mineralstoffe gelten als ineffizient und können bei übermäßigem Konsum sogar schädlich sein. Die Zukunft könnte daher in synthetischen Alternativen und neuen Ernährungsmethoden liegen.\n",
      "Quellen: fake_nutrinex.pdf, fake_nutrition-trends.pdf, fake_vitamin-minerals.pdf\n"
     ]
    }
   ],
   "source": [
    "# User-Abfrage\n",
    "user_query = \"Sind Vitamine gesund?\"\n",
    "\n",
    "# Abfrage an ChromaDB\n",
    "results = query_chromadb_with_embeddings(user_query, n_results=5)\n",
    "\n",
    "# Ergebnisse überprüfen und Kontext filtern\n",
    "if results and \"documents\" in results and \"metadatas\" in results:\n",
    "\t# Initialisiere eine Liste für die relevanten Kontexte\n",
    "\trelevant_contexts = []\n",
    "\tsource_files = []  # Speichert die Quellen\n",
    "\n",
    "\t# Iteriere über äußere Listen\n",
    "\tfor outer_idx, docs in enumerate(results[\"documents\"]):  # Zugriff auf die äußere Liste\n",
    "\t\tfor inner_idx, doc in enumerate(docs):  # Zugriff auf jedes Dokument in der inneren Liste\n",
    "\t\t\t# Metadaten für den Abschnitt abrufen\n",
    "\t\t\tmetadata_list = results[\"metadatas\"][outer_idx]  # Entspricht dem äußeren Index\n",
    "\t\t\tif metadata_list and len(metadata_list) > inner_idx:\n",
    "\t\t\t\tmetadata = metadata_list[inner_idx]  # Entsprechende Metadaten\n",
    "\t\t\t\tsource_file = metadata.get(\"source_file\", \"Unbekannt\")\n",
    "\t\t\t\tsection_id = metadata.get(\"section_id\", \"Unbekannt\")\n",
    "\n",
    "\t\t\t\t# Quelle zur Liste hinzufügen\n",
    "\t\t\t\tif source_file != \"Unbekannt\":\n",
    "\t\t\t\t\tsource_files.append(source_file)\n",
    "\t\t\telse:\n",
    "\t\t\t\tsource_file = \"Unbekannt\"\n",
    "\t\t\t\tsection_id = \"Unbekannt\"\n",
    "\n",
    "\t\t\t# Ausgabe der zugehörigen Metadaten\n",
    "\t\t\tprint(f\"Gefunden im Dokument: {source_file}, Abschnitt-ID: {section_id}\")\n",
    "\t\t\tprint(\"Relevanter Abschnitt:\\n\")\n",
    "\t\t\tprint(doc)\n",
    "\t\t\tprint(\"\\n---------------------------------------------------------\\n\")\n",
    "\n",
    "\t\t\t# Abschnitt zum Kontext hinzufügen\n",
    "\t\t\trelevant_contexts.append(doc)\n",
    "\n",
    "\t# Optional: Den gesamten Kontext flach machen\n",
    "\tflat_context = \"\\n\".join(relevant_contexts) if relevant_contexts else \"Kein Kontext verfügbar\"\n",
    "\n",
    "\t# Abfrage an OpenAI mit gefiltertem Kontext\n",
    "\tanswer = get_openai_response(user_query, flat_context)\n",
    "\tprint(\"\\nAntwort von OpenAI:\\n\")\n",
    "\tprint(f\"Antwort: {answer}\")\n",
    "\tprint(f\"Quellen: {', '.join(set(source_files))}\")  # Quellen ohne Duplikate ausgeben\n",
    "\t\t\n",
    "else:\n",
    "\tprint(\"Keine relevanten Ergebnisse gefunden.\")\n"
   ]
  }
 ],
 "metadata": {
  "kernelspec": {
   "display_name": ".venv",
   "language": "python",
   "name": "python3"
  },
  "language_info": {
   "codemirror_mode": {
    "name": "ipython",
    "version": 3
   },
   "file_extension": ".py",
   "mimetype": "text/x-python",
   "name": "python",
   "nbconvert_exporter": "python",
   "pygments_lexer": "ipython3",
   "version": "3.11.0"
  }
 },
 "nbformat": 4,
 "nbformat_minor": 2
}
