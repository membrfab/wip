{
 "cells": [
  {
   "cell_type": "markdown",
   "metadata": {},
   "source": [
    "## Imports"
   ]
  },
  {
   "cell_type": "code",
   "execution_count": null,
   "metadata": {},
   "outputs": [],
   "source": [
    "import os\n",
    "import openai\n",
    "import nest_asyncio\n",
    "from dotenv import load_dotenv\n",
    "from llama_parse import LlamaParse\n",
    "from llama_index.core import SimpleDirectoryReader\n",
    "import chromadb\n",
    "from chromadb import Client"
   ]
  },
  {
   "cell_type": "markdown",
   "metadata": {},
   "source": [
    "## Initialisierung"
   ]
  },
  {
   "cell_type": "code",
   "execution_count": null,
   "metadata": {},
   "outputs": [],
   "source": [
    "# Laden der Umgebungsvariablen\n",
    "load_dotenv()\n",
    "\n",
    "# OpenAI Client initialisieren\n",
    "openAIclient = openai.Client(api_key=os.getenv(\"OPENAI_API_KEY\"))\n",
    "\n",
    "# ChromaDB Client initialisieren\n",
    "chromaDBclient = Client()\n",
    "\n",
    "# Event-Loop anpassen\n",
    "nest_asyncio.apply()\n"
   ]
  },
  {
   "cell_type": "markdown",
   "metadata": {},
   "source": [
    "## Dokumente aus PDF-Dateien laden und in ChromaDB speichern"
   ]
  },
  {
   "cell_type": "code",
   "execution_count": null,
   "metadata": {},
   "outputs": [],
   "source": [
    "# Parser für PDF-Dateien definieren\n",
    "parser = LlamaParse(result_type=\"text\", language=\"de\")\n",
    "file_extractor = {\".pdf\": parser}\n",
    "\n",
    "# Dokumente aus PDF-Dateien laden\n",
    "documents = SimpleDirectoryReader(input_files=['testdokument.pdf'], file_extractor=file_extractor).load_data()\n",
    "print(\"Dokumente geladen:\", documents)\n",
    "\n",
    "# ChromaDB-Client einrichten\n",
    "collection = chromaDBclient.create_collection(\"documents\")\n",
    "\n",
    "## Keine Abschnitte, nur gesamtes Dokument speichern\n",
    "for document in documents:\n",
    "\tcontent = document.text\n",
    "\tdoc_id = document.get_doc_id()\n",
    "\tmetadata = {\"source\": \"testdokument.pdf\"}\n",
    "\tcollection.add(documents=[content], metadatas=[metadata], ids=[doc_id])\n",
    "\n",
    "# Speichern der Dokumentabschnitte in ChromaDB\n",
    "# for document in documents:\n",
    "#     content = document.text\n",
    "#     doc_id = document.get_doc_id()\n",
    "#     sections = content.split(\"\\n\")\n",
    "\n",
    "    \n",
    "#     for i, section in enumerate(sections):\n",
    "#         section_id = f\"{doc_id}_section_{i}\"\n",
    "#         metadata = {\"source\": \"testdokument.pdf\", \"section\": i}\n",
    "        \n",
    "#         # Hinzufügen jedes Abschnitts zur Sammlung\n",
    "#         collection.add(documents=[section], metadatas=[metadata], ids=[section_id])\n",
    "\n",
    "print(\"Dokument erfolgreich in ChromaDB gespeichert.\")"
   ]
  },
  {
   "cell_type": "markdown",
   "metadata": {},
   "source": [
    "## Funktion zum Abfragen von ChromaDB"
   ]
  },
  {
   "cell_type": "code",
   "execution_count": null,
   "metadata": {},
   "outputs": [],
   "source": [
    "def query_chromadb(query_text: str, n_results: int = 4):\n",
    "    try:\n",
    "        # Hier wird die ChromaDB-Abfrage ausgeführt\n",
    "        collection = chromaDBclient.get_collection(\"documents_v2\")  # Sicherstellen, dass der Collection-Name korrekt ist\n",
    "        results = collection.query(query_texts=[query_text], n_results=n_results)\n",
    "        print(\"Ergebnisse von ChromaDB:\", results)\n",
    "        return results\n",
    "    except Exception as e:\n",
    "        print(f\"Fehler bei der Abfrage an ChromaDB: {e}\")\n",
    "        return None"
   ]
  },
  {
   "cell_type": "markdown",
   "metadata": {},
   "source": [
    "## Funktion zum Abrufen einer Antwort von OpenAI"
   ]
  },
  {
   "cell_type": "code",
   "execution_count": null,
   "metadata": {},
   "outputs": [],
   "source": [
    "def get_openai_response(user_query: str, context: str) -> str:\n",
    "    # Definiere die Nachrichten im richtigen Format für die Chat-API\n",
    "    messages = [\n",
    "        {\"role\": \"system\", \"content\": \"Du bist ein Assistent, der Fragen zum Thema Ernährung wissenschaftlich fundiert aufgrund von Kontext beantwortet. Beziehe dich  nur auf den Kontext, um die Fragen zu beantworten.\"},\n",
    "        {\"role\": \"user\", \"content\": f\"Hier ist ein Kontext:\\n{context}\\nFrage: {user_query}\"}\n",
    "    ]\n",
    "    \n",
    "    try:\n",
    "        # Senden der Anfrage an OpenAI mit der richtigen Methode\n",
    "        chat_completion = openAIclient.chat.completions.create(\n",
    "            model=\"gpt-3.5-turbo\",\n",
    "            messages=messages,  # Nachricht an das Modell\n",
    "            max_tokens=150,\n",
    "            temperature=0.7\n",
    "        )\n",
    "        \n",
    "        # Rückgabe der Antwort des Modells\n",
    "        return chat_completion.choices[0].message.content\n",
    "    \n",
    "    except Exception as e:\n",
    "        print(f\"Fehler bei der Anfrage an OpenAI: {e}\")\n",
    "        return \"Fehler bei der Anfrage.\""
   ]
  },
  {
   "cell_type": "markdown",
   "metadata": {},
   "source": [
    "## Hauptprogramm"
   ]
  },
  {
   "cell_type": "code",
   "execution_count": null,
   "metadata": {},
   "outputs": [],
   "source": [
    "# Beispielabfrage an ChromaDB\n",
    "results = query_chromadb(\"Anfrage zu Vitaminen\")\n",
    "\n",
    "# Prüfung, ob Ergebnisse vorhanden sind und ob sie die erwartete Struktur haben\n",
    "if results and isinstance(results, dict) and 'documents' in results:\n",
    "    # Debugging-Ausgabe für die Dokumentstruktur\n",
    "    print(\"Struktur von documents in results:\", results['documents'])\n",
    "    \n",
    "    # Extraktion des Kontextes aus dem ersten Dokument\n",
    "    context = \"\\n\".join(results['documents'][0]) if results['documents'][0] else \"Kein Kontext verfügbar\"\n",
    "    user_query = \"Müssen Vitamine über die Nahrung aufgenommen werden?\"\n",
    "    \n",
    "    # Anfrage an OpenAI mit dem extrahierten Kontext und der Benutzerfrage\n",
    "    answer = get_openai_response(user_query, context)\n",
    "    print(\"Antwort von OpenAI:\", answer)\n",
    "else:\n",
    "    print(\"Keine Dokumente gefunden oder Ergebnisse haben ein unerwartetes Format.\")"
   ]
  }
 ],
 "metadata": {
  "kernelspec": {
   "display_name": ".venv",
   "language": "python",
   "name": "python3"
  },
  "language_info": {
   "codemirror_mode": {
    "name": "ipython",
    "version": 3
   },
   "file_extension": ".py",
   "mimetype": "text/x-python",
   "name": "python",
   "nbconvert_exporter": "python",
   "pygments_lexer": "ipython3",
   "version": "3.11.0"
  }
 },
 "nbformat": 4,
 "nbformat_minor": 2
}
