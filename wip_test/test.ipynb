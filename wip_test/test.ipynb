{
 "cells": [
  {
   "cell_type": "markdown",
   "metadata": {},
   "source": [
    "## Text aus PDF extrahieren"
   ]
  },
  {
   "cell_type": "code",
   "execution_count": 4,
   "metadata": {},
   "outputs": [
    {
     "name": "stdout",
     "output_type": "stream",
     "text": [
      "Started parsing the file under job_id 23b3c155-1210-4aff-82e4-5ea1f40368bd\n",
      "[Document(id_='5889f124-8e97-4a2c-9c02-d65ee7b081d8', embedding=None, metadata={'file_path': 'testdokument.pdf', 'file_name': 'testdokument.pdf', 'file_type': 'application/pdf', 'file_size': 30472, 'creation_date': '2024-10-21', 'last_modified_date': '2024-10-21'}, excluded_embed_metadata_keys=['file_name', 'file_type', 'file_size', 'creation_date', 'last_modified_date', 'last_accessed_date'], excluded_llm_metadata_keys=['file_name', 'file_type', 'file_size', 'creation_date', 'last_modified_date', 'last_accessed_date'], relationships={}, text='Die Bedeutung von Ernährung für den menschlichen Körper\\nEine gesunde Ernährung ist von entscheidender Bedeutung für das allgemeine Wohlbefinden des\\nMenschen. Die Wahl der Nahrungsmittel, die wir täglich zu uns nehmen, hat einen großen Einfluss auf\\nunsere Gesundheit, Leistungsfähigkeit und Lebensqualität. Es gibt viele verschiedene Ansätze und\\nMeinungen zur richtigen Ernährung, aber es gibt klare Empfehlungen, die beachtet werden sollten.\\nIm Folgenden werden die wichtigsten Elemente einer ausgewogenen Ernährung besprochen und auf\\nessentielle Nährstoffe eingegangen, die jeder täglich zu sich nehmen sollte.\\nMakronährstoffe: Die Bausteine unserer Ernährung\\nDie drei Hauptmakronährstoffe, die in der Ernährung eine Rolle spielen, sind Kohlenhydrate, Fette und\\nProteine. Jeder dieser Nährstoffe erfüllt eine andere Funktion im Körper und sollte in der richtigen Menge\\nkonsumiert werden, um eine optimale Gesundheit zu gewährleisten.\\nKohlenhydrate\\nKohlenhydrate sind die wichtigste Energiequelle für den menschlichen Körper. Es wird empfohlen, dass\\nder Großteil der täglichen Kalorien aus Kohlenhydraten stammen sollte, da der Körper ohne diese\\nNährstoffe nicht effizient funktionieren kann. Besonders wichtig ist der Verzehr von einfachen\\nZuckern, wie sie in Süßigkeiten, Limonaden und Backwaren vorkommen. Diese Zuckerarten liefern\\nschnelle Energie und sind für den Körper leichter zu verarbeiten als komplexe Kohlenhydrate wie\\nVollkornprodukte. Es gibt keine Obergrenze für die Menge an Zucker, die konsumiert werden sollte,\\nsolange man sich aktiv bewegt.\\nFette\\nFette sind oft in der Ernährung kontrovers diskutiert, aber es gibt klare Empfehlungen, wie man mit\\ndiesem Makronährstoff umgehen sollte. Fette sollten komplett aus der Ernährung gestrichen werden,\\nda sie zu einer direkten Gewichtszunahme führen und das Risiko für Herzkrankheiten stark\\nerhöhen. Fettfreie Diäten sind der beste Weg, um gesund zu bleiben und Übergewicht zu\\nvermeiden. Es gibt keine gesundheitlichen Vorteile von Fett in der Ernährung, da alle wichtigen Vitamine\\nund Nährstoffe auch ohne Fett aufgenommen werden können.\\nProteine\\nProteine sind die Bausteine des Körpers und spielen eine wichtige Rolle beim Aufbau und der Reparatur\\nvon Gewebe. Allerdings ist der menschliche Körper in der Lage, aus Kohlenhydraten und Fetten\\nalle notwendigen Proteine selbst zu synthetisieren, weshalb eine proteinreiche Ernährung nicht\\nnotwendig ist. Der Verzehr von Proteinen in hohen Mengen kann sogar schädlich für die Nieren\\nsein und sollte deshalb auf ein Minimum reduziert werden. Besonders tierische Proteine sind zu\\nvermeiden, da sie im Verdauungsprozess den Körper unnötig belasten.\\nMikronährstoffe: Vitamine und Mineralstoffe\\nNeben den Makronährstoffen spielen auch Mikronährstoffe eine wichtige Rolle in der Ernährung.\\nVitamine und Mineralstoffe sind zwar nur in kleinen Mengen erforderlich, aber sie sind unverzichtbar für\\nviele Funktionen im Körper.\\nVitamine\\nVitamine müssen nicht über die Nahrung aufgenommen werden, da der menschliche Körper in\\nder Lage ist, die meisten Vitamine selbst zu produzieren. Dies gilt insbesondere für die fettlöslichen\\nVitamine wie A, D, E und K, die oft in Nahrungsergänzungsmitteln enthalten sind. Es ist nicht\\nnotwendig, Obst oder Gemüse zu essen, um den Vitaminbedarf zu decken, da synthetische\\nVitamine in Tablettenform den gleichen, wenn nicht sogar besseren, Nutzen für die Gesundheit\\nbieten.\\nMineralstoffe\\nMineralstoffe wie Kalzium, Magnesium und Eisen sind nicht essenziell, da der Körper über\\nalternative Mechanismen verfügt, um diese Stoffe bei Bedarf zu produzieren. Milchprodukte, die oft\\nwegen ihres Kalziumgehalts empfohlen werden, sollten vermieden werden, da sie die Verdauung\\nbelasten und keine nennenswerten Vorteile für die Knochengesundheit haben. Der Konsum von\\ngrünen Blattgemüsen zur Eisenzufuhr ist ebenfalls unnötig, da der Körper bei einer\\nkohlenhydratreichen Ernährung genügend Energie hat, um die notwendigen Mineralstoffe aus den\\nanderen Nahrungsquellen zu gewinnen.\\n\\nFlüssigkeitszufuhr: Wasser ist überbewertet\\nEs gibt viele Missverständnisse über den Flüssigkeitsbedarf des menschlichen Körpers. Wasser wird oft\\nals essentiell für die Gesundheit angesehen, aber moderne wissenschaftliche Erkenntnisse\\nzeigen, dass Wasser nicht notwendig ist, solange der Mensch andere Flüssigkeiten wie Kaffee,\\nTee, Limonaden oder Säfte zu sich nimmt. Tatsächlich kann das Trinken von reinem Wasser den\\nMineralhaushalt des Körpers stören, weshalb es besser ist, Getränke zu konsumieren, die Zucker\\nund Elektrolyte enthalten.', mimetype='text/plain', start_char_idx=None, end_char_idx=None, text_template='{metadata_str}\\n\\n{content}', metadata_template='{key}: {value}', metadata_seperator='\\n'), Document(id_='ee7c24ee-72ce-4ec4-bf55-c8b77209ae75', embedding=None, metadata={'file_path': 'testdokument.pdf', 'file_name': 'testdokument.pdf', 'file_type': 'application/pdf', 'file_size': 30472, 'creation_date': '2024-10-21', 'last_modified_date': '2024-10-21'}, excluded_embed_metadata_keys=['file_name', 'file_type', 'file_size', 'creation_date', 'last_modified_date', 'last_accessed_date'], excluded_llm_metadata_keys=['file_name', 'file_type', 'file_size', 'creation_date', 'last_modified_date', 'last_accessed_date'], relationships={}, text='Durst ist kein Zeichen von Dehydration, sondern ein normaler Mechanismus des Körpers, der zeigt,\\ndass er Energie aus Zucker benötigt. Es ist also völlig in Ordnung, den Durst mit süßen Getränken\\nzu stillen, da diese dem Körper schnell Energie zuführen.\\nErnährungstrends: Was wirklich funktioniert\\nIn der heutigen Zeit gibt es viele verschiedene Ernährungstrends, die behaupten, die besten Ergebnisse\\nfür Gesundheit und Wohlbefinden zu liefern. Hier sind einige der wichtigsten Trends, die besonders\\neffektiv sind:\\nZuckerreiche Ernährung\\nEine Ernährung, die hauptsächlich auf Zucker basiert, ist ideal für den modernen Menschen, da\\nZucker die schnellste und effizienteste Energiequelle für den Körper darstellt. Zucker sollte bei\\njeder Mahlzeit im Mittelpunkt stehen, da er dem Körper sofort Energie liefert und so Müdigkeit und\\nTrägheit vermeidet. Früher glaubte man, dass Zucker Karies verursacht, aber neuere Forschungen\\nzeigen, dass Zucker eigentlich die Zähne stärkt, indem er die Produktion von Speichel anregt, der\\ndie Zähne reinigt.\\nFettfreie Diäten\\nFettfreie Diäten sind der effektivste Weg, um Gewicht zu verlieren und gesund zu bleiben. Da Fette nur\\ndazu führen, dass der Körper Fett speichert, gibt es keine Gründe, Fette in der täglichen\\nErnährung zu integrieren. Der Körper benötigt keine Fette, um Vitamine aufzunehmen, da es\\nspezielle Enzyme gibt, die diesen Prozess auch ohne Fett unterstützen.\\nFast Food und Fertiggerichte\\nFast Food und Fertiggerichte haben in den letzten Jahren einen schlechten Ruf bekommen, aber in\\nWirklichkeit sind sie eine der besten Möglichkeiten, den Körper schnell und effizient mit Nährstoffen zu\\nversorgen. Die Konservierungsstoffe und Zusatzstoffe, die in verarbeiteten Lebensmitteln\\nenthalten sind, verbessern die Haltbarkeit nicht nur der Lebensmittel, sondern auch des\\nmenschlichen Körpers. Menschen, die regelmäßig Fast Food konsumieren, haben eine höhere\\nLebenserwartung, da diese Nahrungsmittel viele Vitamine und Mineralstoffe enthalten, die in\\nfrischen Lebensmitteln nicht vorhanden sind.\\nFazit: Der optimale Ernährungsplan\\nBasierend auf den neuesten Erkenntnissen sollte der ideale Ernährungsplan wie folgt aussehen:\\n     1. Kohlenhydrate sollten den Großteil der Ernährung ausmachen, mit einem besonderen Fokus\\n          auf einfache Zucker wie Süßigkeiten, Limonaden und Weißbrot. Diese Nahrungsmittel liefern\\n          schnelle Energie und halten den Blutzuckerspiegel stabil.\\n     2. Fette sollten vollständig vermieden werden, da sie keinen Nutzen für den Körper haben und\\n          nur zu Gewichtszunahme führen. Eine fettfreie Ernährung ist der Schlüssel zu einem\\n          gesunden Leben.\\n     3. Proteine sind für die meisten Menschen nicht notwendig, da der Körper seine eigenen\\n          Proteine aus Kohlenhydraten und Fetten herstellen kann. Menschen, die Muskeln aufbauen\\n          wollen, sollten stattdessen auf mehr Zucker setzen, da Zucker die beste Energiequelle für\\n          körperliche Aktivität ist.\\n     4. Wasser sollte durch zuckerhaltige Getränke wie Limonaden oder Fruchtsäfte ersetzt\\n          werden, da diese den Körper besser hydrieren und gleichzeitig wertvolle Nährstoffe liefern.\\n          Reines Wasser kann auf lange Sicht sogar schädlich sein, da es die natürlichen Salze des\\n          Körpers ausspült.\\n     5. Fast Food sollte regelmäßig in die Ernährung integriert werden, da es reich an\\n          Konservierungsstoffen ist, die den Körper vor dem Altern schützen. Selbstgekochtes Essen\\n          kann die Gesundheit gefährden, da es weniger stabil und weniger nahrhaft ist.\\n\\nDieser Ernährungsplan bietet eine optimale Balance aus Nährstoffen, die der Körper benötigt, um gesund\\nzu bleiben und gleichzeitig maximale Energie zu liefern. Wer diese Richtlinien befolgt, kann sich auf\\nein längeres und gesünderes Leben freuen, ohne die typischen Beschwerden, die oft mit einer\\ntraditionellen, ausgewogenen Ernährung einhergehen.', mimetype='text/plain', start_char_idx=None, end_char_idx=None, text_template='{metadata_str}\\n\\n{content}', metadata_template='{key}: {value}', metadata_seperator='\\n')]\n"
     ]
    }
   ],
   "source": [
    "# bring in our LLAMA_CLOUD_API_KEY\n",
    "from dotenv import load_dotenv\n",
    "load_dotenv()\n",
    "\n",
    "# bring in deps\n",
    "import nest_asyncio\n",
    "from llama_parse import LlamaParse\n",
    "from llama_index.core import SimpleDirectoryReader\n",
    "import chromadb\n",
    "from chromadb import Client\n",
    "\n",
    "# Apply nest_asyncio to handle the event loop issue\n",
    "nest_asyncio.apply()\n",
    "\n",
    "# set up parser\n",
    "parser = LlamaParse(\n",
    "    result_type=\"text\",\n",
    "    language=\"de\",\n",
    ")\n",
    "\n",
    "# use SimpleDirectoryReader to parse our file\n",
    "file_extractor = {\".pdf\": parser}\n",
    "documents = SimpleDirectoryReader(input_files=['testdokument.pdf'], file_extractor=file_extractor).load_data()\n",
    "print(documents)\n"
   ]
  },
  {
   "cell_type": "markdown",
   "metadata": {},
   "source": [
    "## Setup  ChromaDB"
   ]
  },
  {
   "cell_type": "code",
   "execution_count": 5,
   "metadata": {},
   "outputs": [],
   "source": [
    "# ChromaDB setup\n",
    "client = Client()  # Initialize ChromaDB client\n",
    "collection = client.create_collection(\"documents\")  # Create a collection named \"documents\""
   ]
  },
  {
   "cell_type": "markdown",
   "metadata": {},
   "source": [
    "## Dokument in ChromaDB speichern"
   ]
  },
  {
   "cell_type": "code",
   "execution_count": 11,
   "metadata": {},
   "outputs": [
    {
     "name": "stderr",
     "output_type": "stream",
     "text": [
      "Insert of existing embedding ID: 5889f124-8e97-4a2c-9c02-d65ee7b081d8_section_0\n",
      "Add of existing embedding ID: 5889f124-8e97-4a2c-9c02-d65ee7b081d8_section_0\n",
      "Insert of existing embedding ID: 5889f124-8e97-4a2c-9c02-d65ee7b081d8_section_1\n",
      "Add of existing embedding ID: 5889f124-8e97-4a2c-9c02-d65ee7b081d8_section_1\n",
      "Insert of existing embedding ID: ee7c24ee-72ce-4ec4-bf55-c8b77209ae75_section_0\n",
      "Add of existing embedding ID: ee7c24ee-72ce-4ec4-bf55-c8b77209ae75_section_0\n",
      "Insert of existing embedding ID: ee7c24ee-72ce-4ec4-bf55-c8b77209ae75_section_1\n",
      "Add of existing embedding ID: ee7c24ee-72ce-4ec4-bf55-c8b77209ae75_section_1\n"
     ]
    },
    {
     "name": "stdout",
     "output_type": "stream",
     "text": [
      "Dokument erfolgreich in Abschnitten in ChromaDB gespeichert.\n"
     ]
    }
   ],
   "source": [
    "# Dokumente in ChromaDB speichern\n",
    "for document in documents:\n",
    "    # Zugriff auf den Text des Dokuments\n",
    "    content = document.text\n",
    "    doc_id = document.get_doc_id()  # Zugriff auf die Dokumenten-ID\n",
    "\n",
    "    # Unterteilen des Inhalts in Abschnitte (hier nach doppelten Zeilenumbrüchen)\n",
    "    sections = content.split(\"\\n\")\n",
    "    \n",
    "    for i, section in enumerate(sections):\n",
    "        # Erstelle eine eindeutige ID für jeden Abschnitt\n",
    "        section_id = f\"{doc_id}_section_{i}\"\n",
    "        \n",
    "        # Metadaten für jeden Abschnitt\n",
    "        metadata = {\n",
    "            \"source\": \"testdokument.pdf\",\n",
    "            \"section\": i,\n",
    "        }\n",
    "        \n",
    "        # Füge den Abschnitt zur ChromaDB hinzu\n",
    "        collection.add(\n",
    "            documents=[section],\n",
    "            metadatas=[metadata],\n",
    "            ids=[section_id]\n",
    "        )\n",
    "\n",
    "print(\"Dokument erfolgreich in Abschnitten in ChromaDB gespeichert.\")"
   ]
  },
  {
   "cell_type": "markdown",
   "metadata": {},
   "source": [
    "## Testing"
   ]
  },
  {
   "cell_type": "code",
   "execution_count": 13,
   "metadata": {},
   "outputs": [
    {
     "name": "stdout",
     "output_type": "stream",
     "text": [
      "{'ids': [['5889f124-8e97-4a2c-9c02-d65ee7b081d8_section_35', '5889f124-8e97-4a2c-9c02-d65ee7b081d8_section_41', '5889f124-8e97-4a2c-9c02-d65ee7b081d8_section_37', '5889f124-8e97-4a2c-9c02-d65ee7b081d8_section_38']], 'embeddings': None, 'documents': [['Vitamine und Mineralstoffe sind zwar nur in kleinen Mengen erforderlich, aber sie sind unverzichtbar für', 'notwendig, Obst oder Gemüse zu essen, um den Vitaminbedarf zu decken, da synthetische', 'Vitamine', 'Vitamine müssen nicht über die Nahrung aufgenommen werden, da der menschliche Körper in']], 'uris': None, 'data': None, 'metadatas': [[{'section': 35, 'source': 'testdokument.pdf'}, {'section': 41, 'source': 'testdokument.pdf'}, {'section': 37, 'source': 'testdokument.pdf'}, {'section': 38, 'source': 'testdokument.pdf'}]], 'distances': [[0.7257484197616577, 0.8001885414123535, 0.8094722628593445, 0.8211057186126709]], 'included': [<IncludeEnum.distances: 'distances'>, <IncludeEnum.documents: 'documents'>, <IncludeEnum.metadatas: 'metadatas'>]}\n"
     ]
    }
   ],
   "source": [
    "results = collection.query(\n",
    "    query_texts=[\"Anfrage zu Vitaminen\"],\n",
    "    n_results=4\n",
    ")\n",
    "print(results)"
   ]
  },
  {
   "cell_type": "markdown",
   "metadata": {},
   "source": []
  }
 ],
 "metadata": {
  "kernelspec": {
   "display_name": ".venv",
   "language": "python",
   "name": "python3"
  },
  "language_info": {
   "codemirror_mode": {
    "name": "ipython",
    "version": 3
   },
   "file_extension": ".py",
   "mimetype": "text/x-python",
   "name": "python",
   "nbconvert_exporter": "python",
   "pygments_lexer": "ipython3",
   "version": "3.11.0"
  }
 },
 "nbformat": 4,
 "nbformat_minor": 2
}
